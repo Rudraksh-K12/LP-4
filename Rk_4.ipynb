{
  "nbformat": 4,
  "nbformat_minor": 0,
  "metadata": {
    "colab": {
      "provenance": []
    },
    "kernelspec": {
      "name": "python3",
      "display_name": "Python 3"
    },
    "language_info": {
      "name": "python"
    }
  },
  "cells": [
    {
      "cell_type": "code",
      "execution_count": 3,
      "metadata": {
        "id": "yOV4d_auQhhy"
      },
      "outputs": [],
      "source": [
        "import tensorflow as tf\n",
        "from tensorflow.keras.models import Sequential\n",
        "from tensorflow.keras.layers import Embedding,Lambda,Dense\n",
        "from tensorflow.keras.preprocessing.text import Tokenizer\n",
        "import numpy as np\n",
        "import matplotlib.pyplot as plt"
      ]
    },
    {
      "cell_type": "code",
      "source": [
        "text = \"The speed of transmission is an important point of difference between the two viruses. Influenza has a shorter median incubation period (the time from infection to appearance of symptoms) and a shorter serial interval (the time between successive cases) than COVID-19 virus. The serial interval for COVID-19 virus is estimated to be 5-6 days, while for influenza virus, the serial interval is 3 days. This means that influenza can spread faster than COVID-19. Further, transmission in the first 3-5 days of illness, or potentially pre-symptomatic transmission –transmission of the virus before the appearance of symptoms – is a major driver of transmission for influenza. In contrast, while we are learning that there are people who can shed COVID-19 virus 24-48 hours prior to symptom onset, at present, this does not appear to be a major driver of transmission. The reproductive number – the number of secondary infections generated from one infected individual – is understood to be between 2 and 2.5 for COVID-19 virus, higher than for influenza. However, estimates for both COVID-19 and influenza viruses are very context and time-specific, making direct comparisons more difficult.\""
      ],
      "metadata": {
        "id": "KDUJIdUpSe6H"
      },
      "execution_count": 12,
      "outputs": []
    },
    {
      "cell_type": "code",
      "source": [
        "sentences = text.split('.')\n",
        "sentences = [sentence.lower() for sentence in sentences]\n",
        "sentences"
      ],
      "metadata": {
        "colab": {
          "base_uri": "https://localhost:8080/"
        },
        "id": "KNxqwPIGSrGM",
        "outputId": "0ed79172-4fa5-4afb-d990-fcc320530561"
      },
      "execution_count": 13,
      "outputs": [
        {
          "output_type": "execute_result",
          "data": {
            "text/plain": [
              "['the speed of transmission is an important point of difference between the two viruses',\n",
              " ' influenza has a shorter median incubation period (the time from infection to appearance of symptoms) and a shorter serial interval (the time between successive cases) than covid-19 virus',\n",
              " ' the serial interval for covid-19 virus is estimated to be 5-6 days, while for influenza virus, the serial interval is 3 days',\n",
              " ' this means that influenza can spread faster than covid-19',\n",
              " ' further, transmission in the first 3-5 days of illness, or potentially pre-symptomatic transmission –transmission of the virus before the appearance of symptoms – is a major driver of transmission for influenza',\n",
              " ' in contrast, while we are learning that there are people who can shed covid-19 virus 24-48 hours prior to symptom onset, at present, this does not appear to be a major driver of transmission',\n",
              " ' the reproductive number – the number of secondary infections generated from one infected individual – is understood to be between 2 and 2',\n",
              " '5 for covid-19 virus, higher than for influenza',\n",
              " ' however, estimates for both covid-19 and influenza viruses are very context and time-specific, making direct comparisons more difficult',\n",
              " '']"
            ]
          },
          "metadata": {},
          "execution_count": 13
        }
      ]
    },
    {
      "cell_type": "code",
      "source": [
        "tokenizer = Tokenizer()\n",
        "tokenizer.fit_on_texts(sentences)\n",
        "sequences = tokenizer.texts_to_sequences(sentences)\n",
        "print(sequences)"
      ],
      "metadata": {
        "colab": {
          "base_uri": "https://localhost:8080/"
        },
        "id": "3XJG2bOITCkw",
        "outputId": "280d2bc5-0b96-4cdf-ed95-189ce4b0c482"
      },
      "execution_count": 15,
      "outputs": [
        {
          "output_type": "stream",
          "name": "stdout",
          "text": [
            "[[1, 38, 2, 8, 9, 39, 40, 41, 2, 42, 13, 1, 43, 23], [3, 44, 11, 24, 45, 46, 47, 1, 14, 25, 48, 10, 26, 2, 27, 12, 11, 24, 15, 16, 1, 14, 13, 49, 50, 17, 4, 5, 6], [1, 15, 16, 7, 4, 5, 6, 9, 51, 10, 18, 19, 52, 20, 28, 7, 3, 6, 1, 15, 16, 9, 29, 20], [30, 53, 31, 3, 32, 54, 55, 17, 4, 5], [56, 8, 33, 1, 57, 29, 19, 20, 2, 58, 59, 60, 61, 62, 8, 63, 2, 1, 6, 64, 1, 26, 2, 27, 21, 9, 11, 34, 35, 2, 8, 7, 3], [33, 65, 28, 66, 22, 67, 31, 68, 22, 69, 70, 32, 71, 4, 5, 6, 72, 73, 74, 75, 10, 76, 77, 78, 79, 30, 80, 81, 82, 10, 18, 11, 34, 35, 2, 8], [1, 83, 36, 21, 1, 36, 2, 84, 85, 86, 25, 87, 88, 89, 21, 9, 90, 10, 18, 13, 37, 12, 37], [19, 7, 4, 5, 6, 91, 17, 7, 3], [92, 93, 7, 94, 4, 5, 12, 3, 23, 22, 95, 96, 12, 14, 97, 98, 99, 100, 101, 102], []]\n"
          ]
        }
      ]
    },
    {
      "cell_type": "code",
      "source": [
        "word2idx = tokenizer.word_index\n",
        "idx2word = tokenizer.index_word\n",
        "print(word2idx)\n",
        "print(idx2word)"
      ],
      "metadata": {
        "colab": {
          "base_uri": "https://localhost:8080/"
        },
        "id": "jaqJyjmXTYyF",
        "outputId": "bc8bdc10-ee82-419a-bb0c-e8fa3bb404ed"
      },
      "execution_count": 17,
      "outputs": [
        {
          "output_type": "stream",
          "name": "stdout",
          "text": [
            "{'the': 1, 'of': 2, 'influenza': 3, 'covid': 4, '19': 5, 'virus': 6, 'for': 7, 'transmission': 8, 'is': 9, 'to': 10, 'a': 11, 'and': 12, 'between': 13, 'time': 14, 'serial': 15, 'interval': 16, 'than': 17, 'be': 18, '5': 19, 'days': 20, '–': 21, 'are': 22, 'viruses': 23, 'shorter': 24, 'from': 25, 'appearance': 26, 'symptoms': 27, 'while': 28, '3': 29, 'this': 30, 'that': 31, 'can': 32, 'in': 33, 'major': 34, 'driver': 35, 'number': 36, '2': 37, 'speed': 38, 'an': 39, 'important': 40, 'point': 41, 'difference': 42, 'two': 43, 'has': 44, 'median': 45, 'incubation': 46, 'period': 47, 'infection': 48, 'successive': 49, 'cases': 50, 'estimated': 51, '6': 52, 'means': 53, 'spread': 54, 'faster': 55, 'further': 56, 'first': 57, 'illness': 58, 'or': 59, 'potentially': 60, 'pre': 61, 'symptomatic': 62, '–transmission': 63, 'before': 64, 'contrast': 65, 'we': 66, 'learning': 67, 'there': 68, 'people': 69, 'who': 70, 'shed': 71, '24': 72, '48': 73, 'hours': 74, 'prior': 75, 'symptom': 76, 'onset': 77, 'at': 78, 'present': 79, 'does': 80, 'not': 81, 'appear': 82, 'reproductive': 83, 'secondary': 84, 'infections': 85, 'generated': 86, 'one': 87, 'infected': 88, 'individual': 89, 'understood': 90, 'higher': 91, 'however': 92, 'estimates': 93, 'both': 94, 'very': 95, 'context': 96, 'specific': 97, 'making': 98, 'direct': 99, 'comparisons': 100, 'more': 101, 'difficult': 102}\n",
            "{1: 'the', 2: 'of', 3: 'influenza', 4: 'covid', 5: '19', 6: 'virus', 7: 'for', 8: 'transmission', 9: 'is', 10: 'to', 11: 'a', 12: 'and', 13: 'between', 14: 'time', 15: 'serial', 16: 'interval', 17: 'than', 18: 'be', 19: '5', 20: 'days', 21: '–', 22: 'are', 23: 'viruses', 24: 'shorter', 25: 'from', 26: 'appearance', 27: 'symptoms', 28: 'while', 29: '3', 30: 'this', 31: 'that', 32: 'can', 33: 'in', 34: 'major', 35: 'driver', 36: 'number', 37: '2', 38: 'speed', 39: 'an', 40: 'important', 41: 'point', 42: 'difference', 43: 'two', 44: 'has', 45: 'median', 46: 'incubation', 47: 'period', 48: 'infection', 49: 'successive', 50: 'cases', 51: 'estimated', 52: '6', 53: 'means', 54: 'spread', 55: 'faster', 56: 'further', 57: 'first', 58: 'illness', 59: 'or', 60: 'potentially', 61: 'pre', 62: 'symptomatic', 63: '–transmission', 64: 'before', 65: 'contrast', 66: 'we', 67: 'learning', 68: 'there', 69: 'people', 70: 'who', 71: 'shed', 72: '24', 73: '48', 74: 'hours', 75: 'prior', 76: 'symptom', 77: 'onset', 78: 'at', 79: 'present', 80: 'does', 81: 'not', 82: 'appear', 83: 'reproductive', 84: 'secondary', 85: 'infections', 86: 'generated', 87: 'one', 88: 'infected', 89: 'individual', 90: 'understood', 91: 'higher', 92: 'however', 93: 'estimates', 94: 'both', 95: 'very', 96: 'context', 97: 'specific', 98: 'making', 99: 'direct', 100: 'comparisons', 101: 'more', 102: 'difficult'}\n"
          ]
        }
      ]
    },
    {
      "cell_type": "code",
      "source": [
        "vocab_size = len(word2idx)+1\n",
        "emb_size = 100\n",
        "context_size = 2\n",
        "\n",
        "targets = []\n",
        "contexts = []\n",
        "\n",
        "for sequence in sequences:\n",
        "  for i in range(context_size,len(sequence)-context_size):\n",
        "    target = sequence[i]\n",
        "    context = [sequence[i-2],sequence[i-1],sequence[i+1],sequence[i+2]]\n",
        "    targets.append(target)\n",
        "    contexts.append(context)\n",
        "\n",
        "print(targets)\n",
        "print(contexts)"
      ],
      "metadata": {
        "colab": {
          "base_uri": "https://localhost:8080/"
        },
        "id": "j7Ktqyd8UA8c",
        "outputId": "bfb73b53-4e63-43ab-e19a-be4a8bd9e3d9"
      },
      "execution_count": 20,
      "outputs": [
        {
          "output_type": "stream",
          "name": "stdout",
          "text": [
            "[2, 8, 9, 39, 40, 41, 2, 42, 13, 1, 11, 24, 45, 46, 47, 1, 14, 25, 48, 10, 26, 2, 27, 12, 11, 24, 15, 16, 1, 14, 13, 49, 50, 17, 4, 16, 7, 4, 5, 6, 9, 51, 10, 18, 19, 52, 20, 28, 7, 3, 6, 1, 15, 16, 9, 31, 3, 32, 54, 55, 17, 33, 1, 57, 29, 19, 20, 2, 58, 59, 60, 61, 62, 8, 63, 2, 1, 6, 64, 1, 26, 2, 27, 21, 9, 11, 34, 35, 2, 8, 28, 66, 22, 67, 31, 68, 22, 69, 70, 32, 71, 4, 5, 6, 72, 73, 74, 75, 10, 76, 77, 78, 79, 30, 80, 81, 82, 10, 18, 11, 34, 35, 36, 21, 1, 36, 2, 84, 85, 86, 25, 87, 88, 89, 21, 9, 90, 10, 18, 13, 37, 4, 5, 6, 91, 17, 7, 94, 4, 5, 12, 3, 23, 22, 95, 96, 12, 14, 97, 98, 99, 100]\n",
            "[[1, 38, 8, 9], [38, 2, 9, 39], [2, 8, 39, 40], [8, 9, 40, 41], [9, 39, 41, 2], [39, 40, 2, 42], [40, 41, 42, 13], [41, 2, 13, 1], [2, 42, 1, 43], [42, 13, 43, 23], [3, 44, 24, 45], [44, 11, 45, 46], [11, 24, 46, 47], [24, 45, 47, 1], [45, 46, 1, 14], [46, 47, 14, 25], [47, 1, 25, 48], [1, 14, 48, 10], [14, 25, 10, 26], [25, 48, 26, 2], [48, 10, 2, 27], [10, 26, 27, 12], [26, 2, 12, 11], [2, 27, 11, 24], [27, 12, 24, 15], [12, 11, 15, 16], [11, 24, 16, 1], [24, 15, 1, 14], [15, 16, 14, 13], [16, 1, 13, 49], [1, 14, 49, 50], [14, 13, 50, 17], [13, 49, 17, 4], [49, 50, 4, 5], [50, 17, 5, 6], [1, 15, 7, 4], [15, 16, 4, 5], [16, 7, 5, 6], [7, 4, 6, 9], [4, 5, 9, 51], [5, 6, 51, 10], [6, 9, 10, 18], [9, 51, 18, 19], [51, 10, 19, 52], [10, 18, 52, 20], [18, 19, 20, 28], [19, 52, 28, 7], [52, 20, 7, 3], [20, 28, 3, 6], [28, 7, 6, 1], [7, 3, 1, 15], [3, 6, 15, 16], [6, 1, 16, 9], [1, 15, 9, 29], [15, 16, 29, 20], [30, 53, 3, 32], [53, 31, 32, 54], [31, 3, 54, 55], [3, 32, 55, 17], [32, 54, 17, 4], [54, 55, 4, 5], [56, 8, 1, 57], [8, 33, 57, 29], [33, 1, 29, 19], [1, 57, 19, 20], [57, 29, 20, 2], [29, 19, 2, 58], [19, 20, 58, 59], [20, 2, 59, 60], [2, 58, 60, 61], [58, 59, 61, 62], [59, 60, 62, 8], [60, 61, 8, 63], [61, 62, 63, 2], [62, 8, 2, 1], [8, 63, 1, 6], [63, 2, 6, 64], [2, 1, 64, 1], [1, 6, 1, 26], [6, 64, 26, 2], [64, 1, 2, 27], [1, 26, 27, 21], [26, 2, 21, 9], [2, 27, 9, 11], [27, 21, 11, 34], [21, 9, 34, 35], [9, 11, 35, 2], [11, 34, 2, 8], [34, 35, 8, 7], [35, 2, 7, 3], [33, 65, 66, 22], [65, 28, 22, 67], [28, 66, 67, 31], [66, 22, 31, 68], [22, 67, 68, 22], [67, 31, 22, 69], [31, 68, 69, 70], [68, 22, 70, 32], [22, 69, 32, 71], [69, 70, 71, 4], [70, 32, 4, 5], [32, 71, 5, 6], [71, 4, 6, 72], [4, 5, 72, 73], [5, 6, 73, 74], [6, 72, 74, 75], [72, 73, 75, 10], [73, 74, 10, 76], [74, 75, 76, 77], [75, 10, 77, 78], [10, 76, 78, 79], [76, 77, 79, 30], [77, 78, 30, 80], [78, 79, 80, 81], [79, 30, 81, 82], [30, 80, 82, 10], [80, 81, 10, 18], [81, 82, 18, 11], [82, 10, 11, 34], [10, 18, 34, 35], [18, 11, 35, 2], [11, 34, 2, 8], [1, 83, 21, 1], [83, 36, 1, 36], [36, 21, 36, 2], [21, 1, 2, 84], [1, 36, 84, 85], [36, 2, 85, 86], [2, 84, 86, 25], [84, 85, 25, 87], [85, 86, 87, 88], [86, 25, 88, 89], [25, 87, 89, 21], [87, 88, 21, 9], [88, 89, 9, 90], [89, 21, 90, 10], [21, 9, 10, 18], [9, 90, 18, 13], [90, 10, 13, 37], [10, 18, 37, 12], [18, 13, 12, 37], [19, 7, 5, 6], [7, 4, 6, 91], [4, 5, 91, 17], [5, 6, 17, 7], [6, 91, 7, 3], [92, 93, 94, 4], [93, 7, 4, 5], [7, 94, 5, 12], [94, 4, 12, 3], [4, 5, 3, 23], [5, 12, 23, 22], [12, 3, 22, 95], [3, 23, 95, 96], [23, 22, 96, 12], [22, 95, 12, 14], [95, 96, 14, 97], [96, 12, 97, 98], [12, 14, 98, 99], [14, 97, 99, 100], [97, 98, 100, 101], [98, 99, 101, 102]]\n"
          ]
        }
      ]
    },
    {
      "cell_type": "code",
      "source": [
        "for i in range(5):\n",
        "  target = idx2word.get(targets[i])\n",
        "  wrd = []\n",
        "  for j in contexts[i]:\n",
        "    wrd.append(idx2word.get(j))\n",
        "  print(wrd,'->',target)"
      ],
      "metadata": {
        "colab": {
          "base_uri": "https://localhost:8080/"
        },
        "id": "Rv4rpY6SUxkx",
        "outputId": "e980d369-4c14-40a2-d278-209d45555400"
      },
      "execution_count": 22,
      "outputs": [
        {
          "output_type": "stream",
          "name": "stdout",
          "text": [
            "['the', 'speed', 'transmission', 'is'] -> of\n",
            "['speed', 'of', 'is', 'an'] -> transmission\n",
            "['of', 'transmission', 'an', 'important'] -> is\n",
            "['transmission', 'is', 'important', 'point'] -> an\n",
            "['is', 'an', 'point', 'of'] -> important\n"
          ]
        }
      ]
    },
    {
      "cell_type": "code",
      "source": [
        "x = np.array(contexts)\n",
        "y = np.array(targets)"
      ],
      "metadata": {
        "id": "XWf8Y6hWVovn"
      },
      "execution_count": 23,
      "outputs": []
    },
    {
      "cell_type": "code",
      "source": [
        "from sklearn.model_selection import train_test_split\n",
        "x_train,x_test,y_train,y_test = train_test_split(x,y,test_size=0.2)"
      ],
      "metadata": {
        "id": "RQ_qTwIvVvhY"
      },
      "execution_count": 24,
      "outputs": []
    },
    {
      "cell_type": "code",
      "source": [
        "model = Sequential([\n",
        "    Embedding(input_dim=vocab_size,output_dim=emb_size,input_length=context_size),\n",
        "    Lambda(lambda x:tf.reduce_mean(x,axis=1)),\n",
        "    Dense(128,activation='relu'),\n",
        "    Dense(128,activation='relu'),\n",
        "    Dense(vocab_size,activation='softmax')\n",
        "])"
      ],
      "metadata": {
        "colab": {
          "base_uri": "https://localhost:8080/"
        },
        "id": "T-Q1QDxdWCuP",
        "outputId": "b794ed72-946c-4710-f9d8-9334a239882d"
      },
      "execution_count": 46,
      "outputs": [
        {
          "output_type": "stream",
          "name": "stderr",
          "text": [
            "/usr/local/lib/python3.10/dist-packages/keras/src/layers/core/embedding.py:90: UserWarning: Argument `input_length` is deprecated. Just remove it.\n",
            "  warnings.warn(\n"
          ]
        }
      ]
    },
    {
      "cell_type": "code",
      "source": [
        "model.compile(optimizer='adam',loss='sparse_categorical_crossentropy',metrics=['accuracy'])"
      ],
      "metadata": {
        "id": "UQL51D-LW62V"
      },
      "execution_count": 47,
      "outputs": []
    },
    {
      "cell_type": "code",
      "source": [
        "H = model.fit(x_train,y_train,epochs=10,validation_data=(x_test,y_test))"
      ],
      "metadata": {
        "colab": {
          "base_uri": "https://localhost:8080/"
        },
        "id": "9MssVvpWXjqR",
        "outputId": "fed7826c-ba35-4892-bbb8-be7cf3b37f72"
      },
      "execution_count": 48,
      "outputs": [
        {
          "output_type": "stream",
          "name": "stdout",
          "text": [
            "Epoch 1/10\n",
            "\u001b[1m5/5\u001b[0m \u001b[32m━━━━━━━━━━━━━━━━━━━━\u001b[0m\u001b[37m\u001b[0m \u001b[1m2s\u001b[0m 59ms/step - accuracy: 0.0026 - loss: 4.6342 - val_accuracy: 0.0000e+00 - val_loss: 4.6355\n",
            "Epoch 2/10\n",
            "\u001b[1m5/5\u001b[0m \u001b[32m━━━━━━━━━━━━━━━━━━━━\u001b[0m\u001b[37m\u001b[0m \u001b[1m0s\u001b[0m 10ms/step - accuracy: 0.1174 - loss: 4.6174 - val_accuracy: 0.0000e+00 - val_loss: 4.6356\n",
            "Epoch 3/10\n",
            "\u001b[1m5/5\u001b[0m \u001b[32m━━━━━━━━━━━━━━━━━━━━\u001b[0m\u001b[37m\u001b[0m \u001b[1m0s\u001b[0m 10ms/step - accuracy: 0.1135 - loss: 4.6030 - val_accuracy: 0.0000e+00 - val_loss: 4.6360\n",
            "Epoch 4/10\n",
            "\u001b[1m5/5\u001b[0m \u001b[32m━━━━━━━━━━━━━━━━━━━━\u001b[0m\u001b[37m\u001b[0m \u001b[1m0s\u001b[0m 14ms/step - accuracy: 0.0900 - loss: 4.5893 - val_accuracy: 0.0000e+00 - val_loss: 4.6367\n",
            "Epoch 5/10\n",
            "\u001b[1m5/5\u001b[0m \u001b[32m━━━━━━━━━━━━━━━━━━━━\u001b[0m\u001b[37m\u001b[0m \u001b[1m0s\u001b[0m 14ms/step - accuracy: 0.1000 - loss: 4.5709 - val_accuracy: 0.0000e+00 - val_loss: 4.6384\n",
            "Epoch 6/10\n",
            "\u001b[1m5/5\u001b[0m \u001b[32m━━━━━━━━━━━━━━━━━━━━\u001b[0m\u001b[37m\u001b[0m \u001b[1m0s\u001b[0m 15ms/step - accuracy: 0.1272 - loss: 4.5423 - val_accuracy: 0.0000e+00 - val_loss: 4.6401\n",
            "Epoch 7/10\n",
            "\u001b[1m5/5\u001b[0m \u001b[32m━━━━━━━━━━━━━━━━━━━━\u001b[0m\u001b[37m\u001b[0m \u001b[1m0s\u001b[0m 14ms/step - accuracy: 0.1368 - loss: 4.5074 - val_accuracy: 0.0000e+00 - val_loss: 4.6450\n",
            "Epoch 8/10\n",
            "\u001b[1m5/5\u001b[0m \u001b[32m━━━━━━━━━━━━━━━━━━━━\u001b[0m\u001b[37m\u001b[0m \u001b[1m0s\u001b[0m 11ms/step - accuracy: 0.1229 - loss: 4.4641 - val_accuracy: 0.0000e+00 - val_loss: 4.6539\n",
            "Epoch 9/10\n",
            "\u001b[1m5/5\u001b[0m \u001b[32m━━━━━━━━━━━━━━━━━━━━\u001b[0m\u001b[37m\u001b[0m \u001b[1m0s\u001b[0m 14ms/step - accuracy: 0.1550 - loss: 4.3895 - val_accuracy: 0.0000e+00 - val_loss: 4.6706\n",
            "Epoch 10/10\n",
            "\u001b[1m5/5\u001b[0m \u001b[32m━━━━━━━━━━━━━━━━━━━━\u001b[0m\u001b[37m\u001b[0m \u001b[1m0s\u001b[0m 10ms/step - accuracy: 0.1160 - loss: 4.2914 - val_accuracy: 0.0000e+00 - val_loss: 4.7020\n"
          ]
        }
      ]
    },
    {
      "cell_type": "code",
      "source": [
        "y_predicted = np.argmax(model.predict(np.array([[66, 22, 31, 68]])))\n",
        "y_predicted\n",
        "\n",
        "target = idx2word.get(y_predicted)\n",
        "words = []\n",
        "for i in [66, 22, 31, 68]:\n",
        "  words.append(idx2word.get(i))\n",
        "print(words, '->', target)"
      ],
      "metadata": {
        "colab": {
          "base_uri": "https://localhost:8080/"
        },
        "id": "Mu1F3DvhZKNa",
        "outputId": "12150405-47a8-4a88-a478-89f4c318b618"
      },
      "execution_count": 61,
      "outputs": [
        {
          "output_type": "stream",
          "name": "stdout",
          "text": [
            "\u001b[1m1/1\u001b[0m \u001b[32m━━━━━━━━━━━━━━━━━━━━\u001b[0m\u001b[37m\u001b[0m \u001b[1m0s\u001b[0m 21ms/step\n",
            "['we', 'are', 'that', 'there'] -> the\n"
          ]
        }
      ]
    },
    {
      "cell_type": "code",
      "source": [
        "y_test"
      ],
      "metadata": {
        "colab": {
          "base_uri": "https://localhost:8080/"
        },
        "id": "KuGQ3GcbZeHj",
        "outputId": "ba1d297d-17c2-4e33-fd6f-db3f45169639"
      },
      "execution_count": 55,
      "outputs": [
        {
          "output_type": "execute_result",
          "data": {
            "text/plain": [
              "array([ 1, 72, 14, 39, 10, 67, 68, 37, 81, 10, 18, 14, 21, 16, 59, 63, 33,\n",
              "        9, 11, 20, 58, 28, 54, 28, 22, 26,  9, 17,  3, 88, 20, 34, 11])"
            ]
          },
          "metadata": {},
          "execution_count": 55
        }
      ]
    },
    {
      "cell_type": "code",
      "source": [
        "x_test"
      ],
      "metadata": {
        "colab": {
          "base_uri": "https://localhost:8080/"
        },
        "id": "RQjAHzS-XraN",
        "outputId": "26fbdc20-382a-4f0f-e372-c03234d43319"
      },
      "execution_count": 56,
      "outputs": [
        {
          "output_type": "execute_result",
          "data": {
            "text/plain": [
              "array([[36, 21, 36,  2],\n",
              "       [ 5,  6, 73, 74],\n",
              "       [47,  1, 25, 48],\n",
              "       [ 8,  9, 40, 41],\n",
              "       [ 9, 90, 18, 13],\n",
              "       [66, 22, 31, 68],\n",
              "       [67, 31, 22, 69],\n",
              "       [18, 13, 12, 37],\n",
              "       [30, 80, 82, 10],\n",
              "       [25, 48, 26,  2],\n",
              "       [90, 10, 13, 37],\n",
              "       [96, 12, 97, 98],\n",
              "       [88, 89,  9, 90],\n",
              "       [ 1, 15,  7,  4],\n",
              "       [ 2, 58, 60, 61],\n",
              "       [62,  8,  2,  1],\n",
              "       [56,  8,  1, 57],\n",
              "       [89, 21, 90, 10],\n",
              "       [21,  9, 34, 35],\n",
              "       [29, 19,  2, 58],\n",
              "       [20,  2, 59, 60],\n",
              "       [52, 20,  7,  3],\n",
              "       [ 3, 32, 55, 17],\n",
              "       [33, 65, 66, 22],\n",
              "       [31, 68, 69, 70],\n",
              "       [64,  1,  2, 27],\n",
              "       [15, 16, 29, 20],\n",
              "       [49, 50,  4,  5],\n",
              "       [ 5, 12, 23, 22],\n",
              "       [25, 87, 89, 21],\n",
              "       [19, 52, 28,  7],\n",
              "       [18, 11, 35,  2],\n",
              "       [27, 12, 24, 15]])"
            ]
          },
          "metadata": {},
          "execution_count": 56
        }
      ]
    },
    {
      "cell_type": "code",
      "source": [],
      "metadata": {
        "id": "rPFE4RUEZJXy"
      },
      "execution_count": null,
      "outputs": []
    }
  ]
}