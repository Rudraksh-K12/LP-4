{
  "nbformat": 4,
  "nbformat_minor": 0,
  "metadata": {
    "colab": {
      "provenance": []
    },
    "kernelspec": {
      "name": "python3",
      "display_name": "Python 3"
    },
    "language_info": {
      "name": "python"
    }
  },
  "cells": [
    {
      "cell_type": "code",
      "execution_count": 4,
      "metadata": {
        "id": "nEyu-0Dqf0Wh"
      },
      "outputs": [],
      "source": [
        "import tensorflow as tf\n",
        "from tensorflow.keras.models import Model,Sequential\n",
        "from tensorflow.keras.layers import Input,Dense,Dropout,Flatten\n",
        "from tensorflow.keras.preprocessing.image import ImageDataGenerator\n",
        "from tensorflow.keras.applications import VGG16\n",
        "import numpy as np\n",
        "import matplotlib.pyplot as plt\n",
        "import pandas as pd"
      ]
    },
    {
      "cell_type": "code",
      "source": [
        "from google.colab import drive\n",
        "drive.mount('/content/drive')"
      ],
      "metadata": {
        "colab": {
          "base_uri": "https://localhost:8080/"
        },
        "id": "uPViC7k_gfcw",
        "outputId": "9391ff98-6450-4a1f-c58a-725a12da487c"
      },
      "execution_count": 6,
      "outputs": [
        {
          "output_type": "stream",
          "name": "stdout",
          "text": [
            "Mounted at /content/drive\n"
          ]
        }
      ]
    },
    {
      "cell_type": "code",
      "source": [
        "root_dir = ''\n",
        "\n",
        "image_data_generator = ImageDataGenerator(\n",
        "    rescale = 1.0/255.0\n",
        ")\n",
        "\n",
        "data_generator = image_data_generator.flow_from_directory(\n",
        "    root_dir,\n",
        "    target_size = (64,64),\n",
        "    batch_size = 500,\n",
        "    shuffle = True,\n",
        "    class_mode = 'categorical'\n",
        ")"
      ],
      "metadata": {
        "id": "QdfkojY0g_Gi"
      },
      "execution_count": 8,
      "outputs": []
    },
    {
      "cell_type": "code",
      "source": [
        " x_train,y_train = data_generator[0]\n",
        " x_test,y_test = data_generator[1]"
      ],
      "metadata": {
        "id": "zEIhtB8wiixn"
      },
      "execution_count": null,
      "outputs": []
    },
    {
      "cell_type": "code",
      "source": [
        "x_train.shape,y_train,shape,x_test.shape,y_test.shape"
      ],
      "metadata": {
        "id": "MtFkWxjKi0Va"
      },
      "execution_count": null,
      "outputs": []
    },
    {
      "cell_type": "code",
      "source": [
        "weight_path = '/content/vgg16_weights_tf_dim_ordering_tf_kernels_notop.h5'\n",
        "basic_model = VGG16(weights=weight_path,include_top=False,shape=(64,64,3))"
      ],
      "metadata": {
        "id": "vv1f09_vi0R2"
      },
      "execution_count": null,
      "outputs": []
    },
    {
      "cell_type": "code",
      "source": [
        "for layer in basic_model.layers:\n",
        "  layer.trainable = False"
      ],
      "metadata": {
        "id": "C1pj-vyMi0PE"
      },
      "execution_count": null,
      "outputs": []
    },
    {
      "cell_type": "code",
      "source": [
        "x = Flatten()(basic_model.output)\n",
        "x = Dense(64, activation='relu')(x)\n",
        "x = Dropout(0.2)(x)\n",
        "x = Dense(102,activation = 'softmax')(x)"
      ],
      "metadata": {
        "id": "1NHZxnemi0Mo"
      },
      "execution_count": null,
      "outputs": []
    },
    {
      "cell_type": "code",
      "source": [
        "model = Model(inputs = basic_model.input,outputs=x)\n",
        "model.compile(optimizer='adam',loss='sparse_categorical_crossentropy',metrics=['accuracy'])\n",
        "H = model.fit(x_train,y_train,epochs=1,validation_data(x_test,y_test))"
      ],
      "metadata": {
        "id": "vIasZTo8i0J-"
      },
      "execution_count": null,
      "outputs": []
    },
    {
      "cell_type": "code",
      "source": [
        "for layer in basic_model.layers[-4:]:\n",
        "  layer.trainable = True"
      ],
      "metadata": {
        "id": "LWkELJT4i0Hs"
      },
      "execution_count": null,
      "outputs": []
    },
    {
      "cell_type": "code",
      "source": [
        "x = Flatten()(basic_model.output)\n",
        "x = Dense(64, activation='relu')(x)\n",
        "x = Dropout(0.2)(x)\n",
        "x = Dense(102,activation = 'softmax')(x)"
      ],
      "metadata": {
        "id": "dVO3FsD9i0FX"
      },
      "execution_count": null,
      "outputs": []
    },
    {
      "cell_type": "code",
      "source": [
        "model = Model(inputs = basic_model.input,outputs=x)\n",
        "model.compile(optimizer='adam',loss='sparse_categorical_crossentropy',metrics=['accuracy'])\n",
        "H = model.fit(x_train,y_train,epochs=1,validation_data(x_test,y_test))"
      ],
      "metadata": {
        "id": "N7Czei5Qi0Cy"
      },
      "execution_count": null,
      "outputs": []
    },
    {
      "cell_type": "code",
      "source": [
        "y_pred = model.predict(x_test)"
      ],
      "metadata": {
        "id": "7XTRWkbLi0Ab"
      },
      "execution_count": null,
      "outputs": []
    },
    {
      "cell_type": "code",
      "source": [
        "labels = list(data_generator.class_indices.keys())"
      ],
      "metadata": {
        "id": "lbzUn1LOiz9w"
      },
      "execution_count": null,
      "outputs": []
    },
    {
      "cell_type": "code",
      "source": [
        "n = 135\n",
        "\n",
        "plt.imshow(x_test[n])\n",
        "print(\"predicted = \",labels[np.argmax(y_pred[n])])\n",
        "print(\"actual = \",labels[np.argmax(y_test[n])])"
      ],
      "metadata": {
        "id": "ISmmC4Phiz7S"
      },
      "execution_count": null,
      "outputs": []
    },
    {
      "cell_type": "code",
      "source": [],
      "metadata": {
        "id": "2Tzd-CU2izvw"
      },
      "execution_count": null,
      "outputs": []
    }
  ]
}